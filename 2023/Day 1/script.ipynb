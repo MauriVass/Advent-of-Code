{
 "cells": [
  {
   "cell_type": "code",
   "execution_count": null,
   "metadata": {},
   "outputs": [],
   "source": [
    "# f = open('test.txt')\n",
    "# f = open('test2.txt')\n",
    "f = open('input.txt')\n",
    "\n",
    "pt2 = False\n",
    "\n",
    "calibration_values = 0\n",
    "text_digits = [\"one\", \"two\", \"three\", \"four\", \"five\", \"six\", \"seven\", \"eight\", \"nine\"]\n",
    "\n",
    "\n",
    "for line in f.readlines():\n",
    "    if(pt2):\n",
    "        for i,td in enumerate(text_digits):\n",
    "            line = line.replace(td, f\"{td[0]}{i+1}{td[-1]}\")\n",
    "    numbers = ''\n",
    "    substring = ''\n",
    "    for c in line:\n",
    "        if(c.isdigit()):\n",
    "            numbers += c\n",
    "    # print(numbers, 10 * int(numbers[0]) + int(numbers[-1]))\n",
    "    calibration_values += 10 * int(numbers[0]) + int(numbers[-1])\n",
    "\n",
    "print(calibration_values)  # pt1 54697, pt2 54885\n"
   ]
  },
  {
   "cell_type": "code",
   "execution_count": null,
   "metadata": {},
   "outputs": [],
   "source": []
  }
 ],
 "metadata": {
  "kernelspec": {
   "display_name": "Python 3.9.6 64-bit",
   "language": "python",
   "name": "python3"
  },
  "language_info": {
   "codemirror_mode": {
    "name": "ipython",
    "version": 3
   },
   "file_extension": ".py",
   "mimetype": "text/x-python",
   "name": "python",
   "nbconvert_exporter": "python",
   "pygments_lexer": "ipython3",
   "version": "3.9.6"
  },
  "orig_nbformat": 4,
  "vscode": {
   "interpreter": {
    "hash": "31f2aee4e71d21fbe5cf8b01ff0e069b9275f58929596ceb00d14d90e3e16cd6"
   }
  }
 },
 "nbformat": 4,
 "nbformat_minor": 2
}
