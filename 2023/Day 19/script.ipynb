{
 "cells": [
  {
   "cell_type": "code",
   "execution_count": null,
   "metadata": {},
   "outputs": [],
   "source": [
    "# f = open('example1.txt')\n",
    "f = open('input.txt')\n",
    "\n",
    "def IsAccepted(elem):\n",
    "    current_workflow = 'in'\n",
    "    while True:\n",
    "        conditions = workflows[current_workflow]\n",
    "        found = False\n",
    "        for i in range(len(conditions)-1):\n",
    "            for e in elem:\n",
    "                c = conditions[i]\n",
    "                if(e[0] == c[0]):\n",
    "                    if(c[1]=='<' and e[1] < c[2]):\n",
    "                        current_workflow = c[3]\n",
    "                        found = True\n",
    "                        break\n",
    "                    elif(c[1]=='>' and e[1] > c[2]):\n",
    "                        current_workflow = c[3]\n",
    "                        found = True\n",
    "                        break\n",
    "            if(found):\n",
    "                break\n",
    "        if(not found):\n",
    "            current_workflow = conditions[-1]\n",
    "\n",
    "        if(current_workflow == 'A'):\n",
    "            return True\n",
    "        elif(current_workflow == 'R'):\n",
    "            return False\n",
    "\n",
    "\n",
    "workflows = {}\n",
    "stop_workflow_encoding = False\n",
    "rating_numbers = 0\n",
    "for r,line in enumerate(f.readlines()):\n",
    "    if(line=='\\n'):\n",
    "        stop_workflow_encoding = True\n",
    "        continue\n",
    "    line = line.strip()\n",
    "    if( not stop_workflow_encoding):\n",
    "        ID, conditions = line.split('{')\n",
    "\n",
    "        ops = []\n",
    "        for c in conditions[:-1].split(','):\n",
    "            if(c.find('>')>0 or c.find('<')>0):\n",
    "                for op in ['<', '>']:\n",
    "                    if(c.find(op)>0):\n",
    "                        variable, cond = c.split(op)\n",
    "                        value, workf = cond.split(':')\n",
    "                        ops.append([variable, op, int(value), workf])\n",
    "            else:\n",
    "                ops.append(c)\n",
    "        workflows[ID] = ops\n",
    "    else:\n",
    "        values = line[1:-1].split(',')\n",
    "        elem = [[variable, int(value)] for v in values for variable, value in [v.split('=')]]\n",
    "\n",
    "        if(IsAccepted(elem)):\n",
    "            for e in elem:\n",
    "                rating_numbers += e[1]\n",
    "print(rating_numbers) #pt 1: 367602"
   ]
  },
  {
   "cell_type": "code",
   "execution_count": null,
   "metadata": {},
   "outputs": [],
   "source": []
  }
 ],
 "metadata": {
  "kernelspec": {
   "display_name": "Python 3.9.6 64-bit",
   "language": "python",
   "name": "python3"
  },
  "language_info": {
   "codemirror_mode": {
    "name": "ipython",
    "version": 3
   },
   "file_extension": ".py",
   "mimetype": "text/x-python",
   "name": "python",
   "nbconvert_exporter": "python",
   "pygments_lexer": "ipython3",
   "version": "3.9.6"
  },
  "orig_nbformat": 4,
  "vscode": {
   "interpreter": {
    "hash": "31f2aee4e71d21fbe5cf8b01ff0e069b9275f58929596ceb00d14d90e3e16cd6"
   }
  }
 },
 "nbformat": 4,
 "nbformat_minor": 2
}
