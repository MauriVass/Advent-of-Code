{
 "cells": [
  {
   "cell_type": "code",
   "execution_count": null,
   "metadata": {},
   "outputs": [],
   "source": [
    "# f = open('example1.txt')\n",
    "f = open('input.txt')\n",
    "\n",
    "platform = []\n",
    "summary = 0\n",
    "for r,line in enumerate(f.readlines()):\n",
    "    line = line.strip()\n",
    "    steps = line.split(',')\n",
    "    sum = 0\n",
    "    for s in steps:\n",
    "        current_value = 0\n",
    "        for c in s:\n",
    "            current_value += ord(c) \n",
    "            current_value = (current_value * 17) % 256\n",
    "        sum += current_value\n",
    "print(sum) #pt 1: 516469"
   ]
  },
  {
   "cell_type": "code",
   "execution_count": null,
   "metadata": {},
   "outputs": [],
   "source": []
  }
 ],
 "metadata": {
  "kernelspec": {
   "display_name": "Python 3.9.6 64-bit",
   "language": "python",
   "name": "python3"
  },
  "language_info": {
   "codemirror_mode": {
    "name": "ipython",
    "version": 3
   },
   "file_extension": ".py",
   "mimetype": "text/x-python",
   "name": "python",
   "nbconvert_exporter": "python",
   "pygments_lexer": "ipython3",
   "version": "3.9.6"
  },
  "orig_nbformat": 4,
  "vscode": {
   "interpreter": {
    "hash": "31f2aee4e71d21fbe5cf8b01ff0e069b9275f58929596ceb00d14d90e3e16cd6"
   }
  }
 },
 "nbformat": 4,
 "nbformat_minor": 2
}
