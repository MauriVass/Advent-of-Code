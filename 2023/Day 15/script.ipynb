{
 "cells": [
  {
   "cell_type": "code",
   "execution_count": null,
   "metadata": {},
   "outputs": [],
   "source": [
    "# f = open('example1.txt')\n",
    "f = open('input.txt')\n",
    "\n",
    "for r,line in enumerate(f.readlines()):\n",
    "    line = line.strip()\n",
    "    steps = line.split(',')\n",
    "    sum = 0\n",
    "    for s in steps:\n",
    "        current_value = 0\n",
    "        for c in s:\n",
    "            current_value += ord(c) \n",
    "            current_value = (current_value * 17) % 256\n",
    "        sum += current_value\n",
    "print(sum) #pt 1: 516469"
   ]
  },
  {
   "cell_type": "code",
   "execution_count": null,
   "metadata": {},
   "outputs": [],
   "source": [
    "# f = open('example1.txt')\n",
    "f = open('input.txt')\n",
    "\n",
    "boxes = {}\n",
    "\n",
    "for r,line in enumerate(f.readlines()):\n",
    "    line = line.strip()\n",
    "    steps = line.split(',')\n",
    "    for s in steps:\n",
    "        add = True #Actions: True:add, False:Remove\n",
    "        current_value = 0\n",
    "        max_index = len(s)\n",
    "        if(s.find('=')>0):\n",
    "            max_index = -2\n",
    "            add = True\n",
    "        if(s.find('-')>0):\n",
    "            max_index = -1\n",
    "            add = False\n",
    "\n",
    "        for c in s[:max_index]:\n",
    "            current_value += ord(c) \n",
    "            current_value = (current_value * 17) % 256\n",
    "        \n",
    "        if(add):\n",
    "            if(current_value in boxes.keys()):\n",
    "                already_present = False\n",
    "                b = boxes[current_value]\n",
    "                if(len(b)>=0):\n",
    "                    for i,e in enumerate(b):\n",
    "                        if(s[:max_index] == e[0]):\n",
    "                            boxes[current_value][i] = [s[:max_index],s[-1]]\n",
    "                            already_present = True\n",
    "                            break\n",
    "                    if(not already_present):\n",
    "                        boxes[current_value].append([s[:max_index],s[-1]])\n",
    "            else:\n",
    "                boxes[current_value] = [[s[:max_index],s[-1]]]\n",
    "        else:\n",
    "            if(current_value in boxes.keys()):\n",
    "                b = boxes[current_value]\n",
    "                if(len(b)>0):\n",
    "                    for i,e in enumerate(b):\n",
    "                        if(s[:max_index] == e[0]):\n",
    "                            boxes[current_value].pop(i)\n",
    "                            break\n",
    "\n",
    "sum = 0\n",
    "for k,v in boxes.items():\n",
    "    if(len(v)>0):\n",
    "        for i,b in enumerate(v):\n",
    "            sum += (k+1) * (i+1) * int(b[1])\n",
    "print(sum) #pt 2: 221627"
   ]
  },
  {
   "cell_type": "code",
   "execution_count": null,
   "metadata": {},
   "outputs": [],
   "source": []
  }
 ],
 "metadata": {
  "kernelspec": {
   "display_name": "Python 3.9.6 64-bit",
   "language": "python",
   "name": "python3"
  },
  "language_info": {
   "codemirror_mode": {
    "name": "ipython",
    "version": 3
   },
   "file_extension": ".py",
   "mimetype": "text/x-python",
   "name": "python",
   "nbconvert_exporter": "python",
   "pygments_lexer": "ipython3",
   "version": "3.9.6"
  },
  "orig_nbformat": 4,
  "vscode": {
   "interpreter": {
    "hash": "31f2aee4e71d21fbe5cf8b01ff0e069b9275f58929596ceb00d14d90e3e16cd6"
   }
  }
 },
 "nbformat": 4,
 "nbformat_minor": 2
}
