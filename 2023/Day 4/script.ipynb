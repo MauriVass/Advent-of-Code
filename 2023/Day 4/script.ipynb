{
 "cells": [
  {
   "cell_type": "code",
   "execution_count": null,
   "metadata": {},
   "outputs": [],
   "source": [
    "\n",
    "import re\n",
    "\n",
    "f = open('example1.txt')\n",
    "f = open('input.txt')\n",
    "\n",
    "total_points = 0\n",
    "\n",
    "for line in f.readlines():\n",
    "    card = line.strip().split(': ')[1]\n",
    "    card = re.sub(\"\\s\\s+\" , \" \", card)\n",
    "    winning_numbers, your_numbers = card.split(' | ')\n",
    "\n",
    "    winning_numbers = winning_numbers.split(' ')\n",
    "    your_numbers = your_numbers.split(' ')\n",
    "\n",
    "    counter = 0\n",
    "    for n in your_numbers:\n",
    "        if(n!=''and n in winning_numbers):\n",
    "            counter+=1\n",
    "            \n",
    "    total_points += 0 if counter==0 else ( 1 if counter==1 else 2 ** (counter-1))\n",
    "\n",
    "print(total_points) #pt1: 21088"
   ]
  },
  {
   "cell_type": "code",
   "execution_count": null,
   "metadata": {},
   "outputs": [],
   "source": []
  }
 ],
 "metadata": {
  "kernelspec": {
   "display_name": "Python 3.9.6 64-bit",
   "language": "python",
   "name": "python3"
  },
  "language_info": {
   "codemirror_mode": {
    "name": "ipython",
    "version": 3
   },
   "file_extension": ".py",
   "mimetype": "text/x-python",
   "name": "python",
   "nbconvert_exporter": "python",
   "pygments_lexer": "ipython3",
   "version": "3.9.6"
  },
  "orig_nbformat": 4,
  "vscode": {
   "interpreter": {
    "hash": "31f2aee4e71d21fbe5cf8b01ff0e069b9275f58929596ceb00d14d90e3e16cd6"
   }
  }
 },
 "nbformat": 4,
 "nbformat_minor": 2
}
