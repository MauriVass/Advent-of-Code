{
 "cells": [
  {
   "cell_type": "code",
   "execution_count": null,
   "metadata": {},
   "outputs": [],
   "source": [
    "# f = open('example1.txt')\n",
    "f = open('input.txt')\n",
    "\n",
    "hands = []\n",
    "\n",
    "for i,line in enumerate(f.readlines()):\n",
    "    line = line.strip().split(' ')\n",
    "    hands.append([line[0], int(line[1])])"
   ]
  },
  {
   "cell_type": "code",
   "execution_count": null,
   "metadata": {},
   "outputs": [],
   "source": [
    "def ScoreHand(hand):\n",
    "    cards = {}\n",
    "    mapping = {'T':10, 'J': 11, 'Q':12, 'K':13, 'A': 14}\n",
    "    for card in hand[0]:\n",
    "        if(card in mapping.keys()):\n",
    "            card = mapping[card]\n",
    "        else:\n",
    "            card = int(card)\n",
    "        if(card in cards.keys()):\n",
    "            cards[card] += 1\n",
    "        else:\n",
    "            cards[card] = 1\n",
    "    cards = sorted(cards.items(), key=lambda x: (x[1],x[0]), reverse=True)\n",
    "\n",
    "    score = []\n",
    "    # score_mapping = {6,7,5,4,3,2,1} # 5, Poker, Full, Tris, ..., HC\n",
    "    i = 0\n",
    "    while(i<len(cards)):\n",
    "        s = -1\n",
    "        numeber_same_card = cards[i][1]\n",
    "        if(numeber_same_card==5): #5 same cards\n",
    "            s = 6\n",
    "        elif(numeber_same_card==4): #Poker\n",
    "            s = 5\n",
    "        elif(numeber_same_card==3):\n",
    "            if(cards[i+1][1]==2):\n",
    "                s = 4 #Full\n",
    "                score.append([s,cards[i][0]])\n",
    "                i+=1\n",
    "            else:\n",
    "                s = 3 #Tris\n",
    "        elif(numeber_same_card==2):\n",
    "            if(cards[i+1][1]==2):\n",
    "                s = 2 #Double pair\n",
    "                score.append([s,cards[i][0]])\n",
    "                i+=1\n",
    "            else:\n",
    "                s = 1 #Pair\n",
    "        elif(numeber_same_card==1):\n",
    "            s = 0\n",
    "        score.append([s,cards[i][0]])\n",
    "        i+=1\n",
    "    score.append(hand[0])\n",
    "    score.append(hand[1])\n",
    "    return score\n",
    "\n",
    "def HandAwinsB(handA, handB):\n",
    "    mapping = {'T':10, 'J': 11, 'Q':12, 'K':13, 'A': 14}\n",
    "    # print(handA)\n",
    "    # print(handB)\n",
    "    handA = ScoreHand(handA)\n",
    "    handB = ScoreHand(handB)\n",
    "    # print(handA)\n",
    "    # print(handB)\n",
    "\n",
    "    score_a = handA[0][0]\n",
    "    score_b = handB[0][0]\n",
    "    card_a = handA[0][1]\n",
    "    card_b = handB[0][1]\n",
    "    if(score_a>score_b):\n",
    "        return 1\n",
    "    elif(score_a==score_b):\n",
    "        for a,b in zip(handA[-2],handB[-2]):\n",
    "            a = mapping[a] if a in mapping else int(a)\n",
    "            b = mapping[b] if b in mapping else int(b)\n",
    "            if(a>b):\n",
    "                return 1\n",
    "            elif(a<b):\n",
    "                return -1\n",
    "    else:\n",
    "        return -1\n",
    "    return 0\n"
   ]
  },
  {
   "cell_type": "code",
   "execution_count": null,
   "metadata": {},
   "outputs": [],
   "source": [
    "HandAwinsB(hands[0], hands[1])"
   ]
  },
  {
   "cell_type": "code",
   "execution_count": null,
   "metadata": {},
   "outputs": [],
   "source": [
    "def bubble_sort(arr, compare_func):\n",
    "    n = len(arr)\n",
    "\n",
    "    for i in range(n):\n",
    "        # Last i elements are already sorted, so we don't need to check them\n",
    "        for j in range(0, n-i-1):\n",
    "            v = HandAwinsB(arr[j], arr[j+1])\n",
    "            if v > 0:\n",
    "                # Swap if the element found is greater than the next element\n",
    "                arr[j], arr[j+1] = arr[j+1], arr[j]\n"
   ]
  },
  {
   "cell_type": "code",
   "execution_count": null,
   "metadata": {},
   "outputs": [],
   "source": [
    "bubble_sort(hands, HandAwinsB)"
   ]
  },
  {
   "cell_type": "code",
   "execution_count": null,
   "metadata": {},
   "outputs": [],
   "source": [
    "points = 0\n",
    "for i,h in enumerate(hands):\n",
    "    points += (i+1) * h[1]\n",
    "print(points) #pt1: 251927063"
   ]
  },
  {
   "cell_type": "code",
   "execution_count": null,
   "metadata": {},
   "outputs": [],
   "source": []
  }
 ],
 "metadata": {
  "kernelspec": {
   "display_name": "Python 3.9.6 64-bit",
   "language": "python",
   "name": "python3"
  },
  "language_info": {
   "codemirror_mode": {
    "name": "ipython",
    "version": 3
   },
   "file_extension": ".py",
   "mimetype": "text/x-python",
   "name": "python",
   "nbconvert_exporter": "python",
   "pygments_lexer": "ipython3",
   "version": "3.9.6"
  },
  "orig_nbformat": 4,
  "vscode": {
   "interpreter": {
    "hash": "31f2aee4e71d21fbe5cf8b01ff0e069b9275f58929596ceb00d14d90e3e16cd6"
   }
  }
 },
 "nbformat": 4,
 "nbformat_minor": 2
}
