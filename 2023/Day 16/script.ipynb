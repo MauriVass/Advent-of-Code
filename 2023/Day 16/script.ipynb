{
 "cells": [
  {
   "cell_type": "code",
   "execution_count": null,
   "metadata": {},
   "outputs": [],
   "source": [
    "# f = open('example1.txt')\n",
    "f = open('input.txt')\n",
    "\n",
    "layout = []\n",
    "for r,line in enumerate(f.readlines()):\n",
    "    line = line.strip()\n",
    "    layout.append([i for i in line])\n",
    "# for l in layout:\n",
    "#     print(l)"
   ]
  },
  {
   "cell_type": "code",
   "execution_count": null,
   "metadata": {},
   "outputs": [],
   "source": [
    "class Beam:\n",
    "    def __init__(self, position, direction, visited):\n",
    "        self.position = position\n",
    "        self.direction = direction\n",
    "        self.visited = visited\n",
    "        self.to_check = []\n",
    "    \n",
    "    def Move(self, layout):\n",
    "        new_direction = self.direction\n",
    "        while True:\n",
    "            # print(f\"Going from {self.position} to {next_position} direction {self.direction} new direction {new_direction} symbol: {next_cell}\")\n",
    "            if(self.position in self.visited.keys()):\n",
    "                if(self.direction in self.visited[self.position]):\n",
    "                    break\n",
    "                self.visited[self.position].append(self.direction) \n",
    "            else:\n",
    "                self.visited[self.position] = [self.direction]\n",
    "                \n",
    "            if(self.direction=='N'):\n",
    "                next_position = (self.position[0] - 1, self.position[1])\n",
    "            elif(self.direction=='E'):\n",
    "                next_position = (self.position[0], self.position[1] + 1)\n",
    "            elif(self.direction=='S'):\n",
    "                next_position = (self.position[0] + 1, self.position[1])\n",
    "            elif(self.direction=='W'):\n",
    "                next_position = (self.position[0], self.position[1] - 1)\n",
    "            \n",
    "            if(next_position[0] < 0 or next_position[0] >= len(layout[0])):\n",
    "                break\n",
    "            if(next_position[1] < 0 or next_position[1] >= len(layout)):\n",
    "                break\n",
    "            \n",
    "            next_cell = layout[next_position[0]][next_position[1]]\n",
    "            if(next_cell == '\\\\'):\n",
    "                if(self.direction=='N'):\n",
    "                    new_direction = 'W'\n",
    "                elif(self.direction=='E'):\n",
    "                    new_direction = 'S'\n",
    "                elif(self.direction=='S'):\n",
    "                    new_direction = 'E'\n",
    "                elif(self.direction=='W'):\n",
    "                    new_direction = 'N'\n",
    "\n",
    "            elif(next_cell == '/'):\n",
    "                if(self.direction=='N'):\n",
    "                    new_direction = 'E'\n",
    "                elif(self.direction=='E'):\n",
    "                    new_direction = 'N'\n",
    "                elif(self.direction=='S'):\n",
    "                    new_direction = 'W'\n",
    "                elif(self.direction=='W'):\n",
    "                    new_direction = 'S'\n",
    "\n",
    "\n",
    "            elif(next_cell == '|'):\n",
    "                if(new_direction=='E' or new_direction=='W'):\n",
    "                    new_direction = 'N'\n",
    "                    self.to_check.append([ (next_position[0], next_position[1]), 'S'])\n",
    "            elif(next_cell == '-'):\n",
    "                if(new_direction=='N' or new_direction=='S'):\n",
    "                    new_direction = 'E'\n",
    "                    self.to_check.append([ (next_position[0], next_position[1]), 'W'])\n",
    "\n",
    "            self.position = next_position\n",
    "            self.direction = new_direction\n",
    "        self.Check(layout)\n",
    "\n",
    "    def Check(self, layout):\n",
    "        while len(self.to_check)>0:\n",
    "            self.position = self.to_check[0][0]\n",
    "            self.direction = self.to_check[0][1]\n",
    "            self.to_check.pop(0)\n",
    "            self.Move(layout)"
   ]
  },
  {
   "cell_type": "code",
   "execution_count": null,
   "metadata": {},
   "outputs": [],
   "source": [
    "beam = Beam(position=(0,-1), direction='E', visited={})"
   ]
  },
  {
   "cell_type": "code",
   "execution_count": null,
   "metadata": {},
   "outputs": [],
   "source": [
    "beam.Move(layout)\n",
    "print(len(beam.visited))"
   ]
  },
  {
   "cell_type": "code",
   "execution_count": null,
   "metadata": {},
   "outputs": [],
   "source": [
    "#Debug\n",
    "counter = 0\n",
    "for i,row in enumerate(layout):\n",
    "    ss = [i]\n",
    "    for j,c in enumerate(row):\n",
    "        if((i,j) in beam.visited):\n",
    "            ss.append(f'#{c}')\n",
    "            counter += 1\n",
    "        else:\n",
    "            if(c=='\\\\'):\n",
    "                ss.append(f'{c}')\n",
    "            else:\n",
    "                ss.append(f'{c}{c}')\n",
    "    print(ss)\n",
    "print(counter)"
   ]
  },
  {
   "cell_type": "code",
   "execution_count": null,
   "metadata": {},
   "outputs": [],
   "source": [
    "energized_tiles = []\n",
    "# Northmost row to DOWN direction\n",
    "for i in range(len(layout)):\n",
    "    beam = Beam(position=(-1,i), direction='S', visited={})\n",
    "    beam.Move(layout)\n",
    "    energized_tiles.append(len(beam.visited))\n",
    "\n",
    "# Rigthmost column to LEFT direction\n",
    "for i in range(len(layout)):\n",
    "    beam = Beam(position=(i,len(layout)), direction='W', visited={})\n",
    "    beam.Move(layout)\n",
    "    energized_tiles.append(len(beam.visited))\n",
    "\n",
    "# Southmost row to UP direction\n",
    "for i in range(len(layout)):\n",
    "    beam = Beam(position=(len(layout),i), direction='S', visited={})\n",
    "    beam.Move(layout)\n",
    "    energized_tiles.append(len(beam.visited))\n",
    "\n",
    "# Leftmost column to RIGTH direction\n",
    "for i in range(len(layout)):\n",
    "    beam = Beam(position=(i,-1), direction='E', visited={})\n",
    "    beam.Move(layout)\n",
    "    energized_tiles.append(len(beam.visited))\n"
   ]
  },
  {
   "cell_type": "code",
   "execution_count": null,
   "metadata": {},
   "outputs": [],
   "source": [
    "max(energized_tiles) # pt2: 7130 (-1 since you start from out of the layout)"
   ]
  },
  {
   "cell_type": "code",
   "execution_count": null,
   "metadata": {},
   "outputs": [],
   "source": []
  }
 ],
 "metadata": {
  "kernelspec": {
   "display_name": "Python 3.9.6 64-bit",
   "language": "python",
   "name": "python3"
  },
  "language_info": {
   "codemirror_mode": {
    "name": "ipython",
    "version": 3
   },
   "file_extension": ".py",
   "mimetype": "text/x-python",
   "name": "python",
   "nbconvert_exporter": "python",
   "pygments_lexer": "ipython3",
   "version": "3.9.6"
  },
  "orig_nbformat": 4,
  "vscode": {
   "interpreter": {
    "hash": "31f2aee4e71d21fbe5cf8b01ff0e069b9275f58929596ceb00d14d90e3e16cd6"
   }
  }
 },
 "nbformat": 4,
 "nbformat_minor": 2
}
