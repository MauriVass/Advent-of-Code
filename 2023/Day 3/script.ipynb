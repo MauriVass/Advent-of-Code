{
 "cells": [
  {
   "cell_type": "code",
   "execution_count": null,
   "metadata": {},
   "outputs": [],
   "source": [
    "import numpy as np\n",
    "# f = open('example1.txt')\n",
    "f = open('input.txt')\n",
    "\n",
    "class number():\n",
    "    def __init__(self,r,c):\n",
    "        self.digits = ''\n",
    "        self.position = (r,c)\n",
    "    def add_digit(self, d):\n",
    "        self.digits += d\n",
    "\n",
    "numbers = []\n",
    "digits = [str(i) for i in range(0,10)]\n",
    "symbols_pos = []\n",
    "\n",
    "for row,line in enumerate(f.readlines()):\n",
    "    new_number = True\n",
    "    for column,i in enumerate(line):\n",
    "        if(i in digits):\n",
    "            if(new_number):\n",
    "                n = number(row+1,column+1)\n",
    "            n.add_digit(i)\n",
    "            new_number = False\n",
    "        else:\n",
    "            if(i not in ['.', '\\n']):\n",
    "                symbols_pos.append((row+1,column+1))\n",
    "            if(new_number==False):\n",
    "                numbers.append(n)\n",
    "            new_number = True\n"
   ]
  },
  {
   "cell_type": "code",
   "execution_count": null,
   "metadata": {},
   "outputs": [],
   "source": [
    "#Part 1\n",
    "sum_numbers = 0\n",
    "for n in numbers:\n",
    "    for s in symbols_pos:\n",
    "        if( (np.abs(n.position[0]-s[0])<=1)): #check row\n",
    "            if( (n.position[1]-s[1]>=-len(n.digits)) and\n",
    "                (n.position[1]-s[1]<=1)): #check column\n",
    "                sum_numbers += int(n.digits)\n",
    "                break\n",
    "\n",
    "print(sum_numbers)  # pt1 525911"
   ]
  },
  {
   "cell_type": "code",
   "execution_count": null,
   "metadata": {},
   "outputs": [],
   "source": [
    "#Part 2\n",
    "sum_gear_ratios = 0\n",
    "for s in symbols_pos:\n",
    "    values = [-1,-1]\n",
    "    counter = 0\n",
    "    for n in numbers:\n",
    "        if( (np.abs(n.position[0]-s[0])<=1)): #check row\n",
    "            if( (n.position[1]-s[1]>=-len(n.digits)) and\n",
    "                (n.position[1]-s[1]<=1)): #check column\n",
    "                values[counter] = int(n.digits)\n",
    "                counter+=1\n",
    "        if(counter==2):\n",
    "            sum_gear_ratios += values[0] * values[1]\n",
    "            break\n",
    "\n",
    "print(sum_gear_ratios)  # pt1 75805607"
   ]
  },
  {
   "cell_type": "code",
   "execution_count": null,
   "metadata": {},
   "outputs": [],
   "source": []
  }
 ],
 "metadata": {
  "kernelspec": {
   "display_name": "Python 3.9.6 64-bit",
   "language": "python",
   "name": "python3"
  },
  "language_info": {
   "codemirror_mode": {
    "name": "ipython",
    "version": 3
   },
   "file_extension": ".py",
   "mimetype": "text/x-python",
   "name": "python",
   "nbconvert_exporter": "python",
   "pygments_lexer": "ipython3",
   "version": "3.9.6"
  },
  "orig_nbformat": 4,
  "vscode": {
   "interpreter": {
    "hash": "31f2aee4e71d21fbe5cf8b01ff0e069b9275f58929596ceb00d14d90e3e16cd6"
   }
  }
 },
 "nbformat": 4,
 "nbformat_minor": 2
}
