{
 "cells": [
  {
   "cell_type": "code",
   "execution_count": null,
   "metadata": {},
   "outputs": [],
   "source": [
    "# f = open('example1.txt')\n",
    "f = open('input.txt')\n",
    "\n",
    "times = []\n",
    "distances = []\n",
    "\n",
    "for i,line in enumerate(f.readlines()):\n",
    "    line = line.strip().split(':')[1]\n",
    "    numbers = line.split()\n",
    "    for n in numbers:\n",
    "        if(i==0):\n",
    "            times.append(int(n))\n",
    "        else:\n",
    "            distances.append(int(n))"
   ]
  },
  {
   "cell_type": "code",
   "execution_count": null,
   "metadata": {},
   "outputs": [],
   "source": [
    "def Iswinning(t,d,charging):\n",
    "    if(charging * (t-charging) > d):\n",
    "        return True\n",
    "    return False"
   ]
  },
  {
   "cell_type": "code",
   "execution_count": null,
   "metadata": {},
   "outputs": [],
   "source": [
    "#pt1\n",
    "winning_possibilities = []\n",
    "for t,d in zip(times,distances):\n",
    "    won = 0\n",
    "    for charging in range(t):\n",
    "        if(Iswinning(t,d,charging)):\n",
    "            won+=1\n",
    "    winning_possibilities.append(won)\n",
    "\n",
    "total_wins = 1\n",
    "for w in winning_possibilities:\n",
    "    total_wins*=w\n",
    "print(total_wins) # pt1: 781200"
   ]
  },
  {
   "cell_type": "code",
   "execution_count": null,
   "metadata": {},
   "outputs": [],
   "source": [
    "#pt 2\n",
    "total_time = ''\n",
    "for t in times:\n",
    "    total_time+=str(t)\n",
    "total_time = int(total_time)\n",
    "total_distance = ''\n",
    "for d in distances:\n",
    "    total_distance+=str(d)\n",
    "total_distance = int(total_distance)"
   ]
  },
  {
   "cell_type": "code",
   "execution_count": null,
   "metadata": {},
   "outputs": [],
   "source": [
    "#Too slow :)\n",
    "won = 0\n",
    "for charging in range(total_time):\n",
    "    if(Iswinning(total_time,total_distance,charging)):\n",
    "        won+=1\n",
    "print(won)"
   ]
  },
  {
   "cell_type": "code",
   "execution_count": null,
   "metadata": {},
   "outputs": [],
   "source": [
    "#Using solution for quadratic equation: x = (-b +/- sqrt(b^2-4ac))/2a with ax^2+bx+c=0\n",
    "# -charging^2 + charging*total_time - total_distance > 0\n",
    "print(f\"Solving: x^2 - {total_time}x + {total_distance} < 0\")\n",
    "max_charging1 = (total_time - (total_time**2 - 4 * (1) * (total_distance) )**0.5) / (2)\n",
    "max_charging2 = (total_time + (total_time**2 - 4 * (1) * (total_distance) )**0.5) / (2)\n",
    "\n",
    "print(max_charging1, max_charging2)\n",
    "import math\n",
    "print(math.floor(max_charging2) - math.ceil(max_charging1) + 1) #pt 2: 49240091"
   ]
  },
  {
   "cell_type": "code",
   "execution_count": null,
   "metadata": {},
   "outputs": [],
   "source": []
  }
 ],
 "metadata": {
  "kernelspec": {
   "display_name": "Python 3.9.6 64-bit",
   "language": "python",
   "name": "python3"
  },
  "language_info": {
   "codemirror_mode": {
    "name": "ipython",
    "version": 3
   },
   "file_extension": ".py",
   "mimetype": "text/x-python",
   "name": "python",
   "nbconvert_exporter": "python",
   "pygments_lexer": "ipython3",
   "version": "3.9.6"
  },
  "orig_nbformat": 4,
  "vscode": {
   "interpreter": {
    "hash": "31f2aee4e71d21fbe5cf8b01ff0e069b9275f58929596ceb00d14d90e3e16cd6"
   }
  }
 },
 "nbformat": 4,
 "nbformat_minor": 2
}
