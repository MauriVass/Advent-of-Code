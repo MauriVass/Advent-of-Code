{
 "cells": [
  {
   "cell_type": "code",
   "execution_count": 11,
   "metadata": {},
   "outputs": [],
   "source": [
    "# f = open('example1.txt')\n",
    "f = open('input.txt')\n",
    "\n",
    "times = []\n",
    "distances = []\n",
    "\n",
    "for i,line in enumerate(f.readlines()):\n",
    "    line = line.strip().split(':')[1]\n",
    "    numbers = line.split()\n",
    "    for n in numbers:\n",
    "        if(i==0):\n",
    "            times.append(int(n))\n",
    "        else:\n",
    "            distances.append(int(n))"
   ]
  },
  {
   "cell_type": "code",
   "execution_count": 12,
   "metadata": {},
   "outputs": [],
   "source": [
    "def Iswinning(t,d,charging):\n",
    "    if(charging * (t-charging) > d):\n",
    "        return True\n",
    "    return False"
   ]
  },
  {
   "cell_type": "code",
   "execution_count": 13,
   "metadata": {},
   "outputs": [
    {
     "name": "stdout",
     "output_type": "stream",
     "text": [
      "781200\n"
     ]
    }
   ],
   "source": [
    "winning_possibilities = []\n",
    "for t,d in zip(times,distances):\n",
    "    won = 0\n",
    "    for charging in range(t):\n",
    "        if(Iswinning(t,d,charging)):\n",
    "            won+=1\n",
    "    winning_possibilities.append(won)\n",
    "\n",
    "total_wins = 1\n",
    "for w in winning_possibilities:\n",
    "    total_wins*=w\n",
    "print(total_wins) # pt1: 781200"
   ]
  },
  {
   "cell_type": "code",
   "execution_count": null,
   "metadata": {},
   "outputs": [],
   "source": []
  }
 ],
 "metadata": {
  "kernelspec": {
   "display_name": "Python 3.9.6 64-bit",
   "language": "python",
   "name": "python3"
  },
  "language_info": {
   "codemirror_mode": {
    "name": "ipython",
    "version": 3
   },
   "file_extension": ".py",
   "mimetype": "text/x-python",
   "name": "python",
   "nbconvert_exporter": "python",
   "pygments_lexer": "ipython3",
   "version": "3.9.6"
  },
  "orig_nbformat": 4,
  "vscode": {
   "interpreter": {
    "hash": "31f2aee4e71d21fbe5cf8b01ff0e069b9275f58929596ceb00d14d90e3e16cd6"
   }
  }
 },
 "nbformat": 4,
 "nbformat_minor": 2
}
