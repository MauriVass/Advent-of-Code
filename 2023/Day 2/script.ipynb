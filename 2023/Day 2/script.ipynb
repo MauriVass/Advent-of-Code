{
 "cells": [
  {
   "cell_type": "code",
   "execution_count": null,
   "metadata": {},
   "outputs": [],
   "source": [
    "# f = open('example1.txt')\n",
    "f = open('input.txt')\n",
    "\n",
    "sum_gamesID = 0\n",
    "max_cubes = {'red':12, 'green':13 , 'blue':14}\n",
    "\n",
    "for line in f.readlines():\n",
    "    game_id, sets = line.strip().split(\": \")\n",
    "    possible = True\n",
    "    for set in sets.split('; '):\n",
    "        cubes = {'red':0, 'green':0 , 'blue':0}\n",
    "        for c in set.split(\", \"):\n",
    "            values = c.split(' ')\n",
    "            cubes[values[-1]] += int(values[0])\n",
    "        for k,v in cubes.items():\n",
    "            if(v>max_cubes[k]):\n",
    "                possible=False\n",
    "    if(possible):\n",
    "        sum_gamesID += int(game_id.split(\" \")[1])\n",
    "\n",
    "print(sum_gamesID)  # pt1 2101\n"
   ]
  },
  {
   "cell_type": "code",
   "execution_count": null,
   "metadata": {},
   "outputs": [],
   "source": [
    "# f = open('example1.txt')\n",
    "f = open('input.txt')\n",
    "\n",
    "sum_powers = 0\n",
    "\n",
    "for line in f.readlines():\n",
    "    game_id, sets = line.strip().split(\": \")\n",
    "    min_cubes = {'red':0, 'green':0 , 'blue':0}\n",
    "    for set in sets.split('; '):\n",
    "        min_cubes_set = {'red':0, 'green':0 , 'blue':0}\n",
    "        for c in set.split(\", \"):\n",
    "            values = c.split(' ')\n",
    "            min_cubes_set[values[-1]] += int(values[0])\n",
    "\n",
    "        for k,v in min_cubes_set.items():\n",
    "            if(v>min_cubes[k]):\n",
    "                min_cubes[k]=v\n",
    "    sum_powers += min_cubes['red'] * min_cubes['green'] * min_cubes['blue']\n",
    "\n",
    "print(sum_powers)  # pt2 58269\n"
   ]
  },
  {
   "cell_type": "code",
   "execution_count": null,
   "metadata": {},
   "outputs": [],
   "source": []
  }
 ],
 "metadata": {
  "kernelspec": {
   "display_name": "Python 3.9.6 64-bit",
   "language": "python",
   "name": "python3"
  },
  "language_info": {
   "codemirror_mode": {
    "name": "ipython",
    "version": 3
   },
   "file_extension": ".py",
   "mimetype": "text/x-python",
   "name": "python",
   "nbconvert_exporter": "python",
   "pygments_lexer": "ipython3",
   "version": "3.9.6"
  },
  "orig_nbformat": 4,
  "vscode": {
   "interpreter": {
    "hash": "31f2aee4e71d21fbe5cf8b01ff0e069b9275f58929596ceb00d14d90e3e16cd6"
   }
  }
 },
 "nbformat": 4,
 "nbformat_minor": 2
}
