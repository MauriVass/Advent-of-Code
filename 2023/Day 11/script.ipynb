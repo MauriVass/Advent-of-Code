{
 "cells": [
  {
   "cell_type": "code",
   "execution_count": null,
   "metadata": {},
   "outputs": [],
   "source": [
    "# f = open('example1.txt')\n",
    "f = open('input.txt')\n",
    "\n",
    "universe = []\n",
    "galaxies = {}\n",
    "rows_w_galaxies = set()\n",
    "columns_w_galaxies = set()\n",
    "\n",
    "ID = 0\n",
    "for r,line in enumerate(f.readlines()):\n",
    "    line = line.strip()\n",
    "    row = []\n",
    "    for c,l in enumerate(line):\n",
    "        if(l=='#'):\n",
    "            row.append(str(ID))  \n",
    "            galaxies[ID] = (r,c)\n",
    "            ID += 1\n",
    "            rows_w_galaxies.add(r)\n",
    "            columns_w_galaxies.add(c)\n",
    "        else:\n",
    "            row.append(l)  \n",
    "\n",
    "    universe.append(row)\n",
    "\n",
    "# for u in universe:\n",
    "#     print(u)"
   ]
  },
  {
   "cell_type": "code",
   "execution_count": null,
   "metadata": {},
   "outputs": [],
   "source": [
    "rows_to_expand = set(range(len(universe)))-rows_w_galaxies\n",
    "columns_to_expand = set(range(len(universe)))-columns_w_galaxies\n",
    "\n",
    "N = 1000000\n",
    "for i,c in enumerate(sorted(columns_to_expand)):\n",
    "    for k,g in galaxies.items():\n",
    "        if(g[1]>c+(N-1)*i):\n",
    "            galaxies[k] = (g[0],g[1]+N-1)\n",
    "for i,r in enumerate(sorted(rows_to_expand)):\n",
    "    for k,g in galaxies.items():\n",
    "        if(g[0]>r+(N-1)*i):\n",
    "            galaxies[k] = (g[0]+N-1,g[1])"
   ]
  },
  {
   "cell_type": "code",
   "execution_count": null,
   "metadata": {},
   "outputs": [],
   "source": [
    "distances = {}\n",
    "sum = 0\n",
    "for k1,g1 in galaxies.items():\n",
    "    for k2,g2 in galaxies.items():\n",
    "        if(k1!=k2 and (k2,k1) not in distances.keys()):\n",
    "            s = abs(g1[0]-g2[0])+abs(g1[1]-g2[1])\n",
    "            distances[(k1,k2)] = s\n",
    "            sum+=s\n",
    "print(sum) #pt 1: 10276166 pt 2: 598693078798"
   ]
  },
  {
   "cell_type": "code",
   "execution_count": null,
   "metadata": {},
   "outputs": [],
   "source": []
  }
 ],
 "metadata": {
  "kernelspec": {
   "display_name": "Python 3.9.6 64-bit",
   "language": "python",
   "name": "python3"
  },
  "language_info": {
   "codemirror_mode": {
    "name": "ipython",
    "version": 3
   },
   "file_extension": ".py",
   "mimetype": "text/x-python",
   "name": "python",
   "nbconvert_exporter": "python",
   "pygments_lexer": "ipython3",
   "version": "3.9.6"
  },
  "orig_nbformat": 4,
  "vscode": {
   "interpreter": {
    "hash": "31f2aee4e71d21fbe5cf8b01ff0e069b9275f58929596ceb00d14d90e3e16cd6"
   }
  }
 },
 "nbformat": 4,
 "nbformat_minor": 2
}
