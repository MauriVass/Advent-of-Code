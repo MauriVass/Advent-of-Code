{
 "cells": [
  {
   "cell_type": "code",
   "execution_count": null,
   "metadata": {},
   "outputs": [],
   "source": [
    "# f = open('example1.txt')\n",
    "# f = open('example2.txt')\n",
    "f = open('input.txt')\n",
    "\n",
    "instructions = []\n",
    "nodes = {}\n",
    "\n",
    "for i,line in enumerate(f.readlines()):\n",
    "    line = line.strip()\n",
    "    if(i==0):\n",
    "        instructions = line\n",
    "    elif(i>1):\n",
    "        node, next_nodes = line.split(' = ')\n",
    "        nodes[node] = [next_nodes[1:4], next_nodes[-4:-1]]"
   ]
  },
  {
   "cell_type": "code",
   "execution_count": 48,
   "metadata": {},
   "outputs": [],
   "source": [
    "current_node = 'AAA'\n",
    "instruction = 0\n",
    "while current_node != 'ZZZ':\n",
    "    dir = instructions[instruction%len(instructions)]\n",
    "    # print(current_node, dir)\n",
    "    if(dir == 'L'):\n",
    "        current_node = nodes[current_node][0]\n",
    "    else:\n",
    "        current_node = nodes[current_node][1]\n",
    "    instruction = (instruction+1)\n"
   ]
  },
  {
   "cell_type": "code",
   "execution_count": null,
   "metadata": {},
   "outputs": [],
   "source": []
  }
 ],
 "metadata": {
  "kernelspec": {
   "display_name": "Python 3.9.6 64-bit",
   "language": "python",
   "name": "python3"
  },
  "language_info": {
   "codemirror_mode": {
    "name": "ipython",
    "version": 3
   },
   "file_extension": ".py",
   "mimetype": "text/x-python",
   "name": "python",
   "nbconvert_exporter": "python",
   "pygments_lexer": "ipython3",
   "version": "3.9.6"
  },
  "orig_nbformat": 4,
  "vscode": {
   "interpreter": {
    "hash": "31f2aee4e71d21fbe5cf8b01ff0e069b9275f58929596ceb00d14d90e3e16cd6"
   }
  }
 },
 "nbformat": 4,
 "nbformat_minor": 2
}
