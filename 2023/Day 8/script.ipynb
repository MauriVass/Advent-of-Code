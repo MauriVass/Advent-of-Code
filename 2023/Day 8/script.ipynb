{
 "cells": [
  {
   "cell_type": "code",
   "execution_count": null,
   "metadata": {},
   "outputs": [],
   "source": [
    "# f = open('example1.txt')\n",
    "# f = open('example2.txt')\n",
    "f = open('input.txt')\n",
    "\n",
    "instructions = []\n",
    "nodes = {}\n",
    "\n",
    "for i,line in enumerate(f.readlines()):\n",
    "    line = line.strip()\n",
    "    if(i==0):\n",
    "        instructions = line\n",
    "    elif(i>1):\n",
    "        node, next_nodes = line.split(' = ')\n",
    "        nodes[node] = [next_nodes[1:4], next_nodes[-4:-1]]"
   ]
  },
  {
   "cell_type": "code",
   "execution_count": 48,
   "metadata": {},
   "outputs": [],
   "source": [
    "current_nodes = []\n",
    "for n in nodes.keys():\n",
    "    if(n[-1]=='A'):\n",
    "        current_nodes.append(n)\n",
    "\n",
    "def KeepMoving(nodes):\n",
    "    for n in nodes:\n",
    "        # print(n, n[-1])\n",
    "        if(n[-1]!='Z'):\n",
    "            return True\n",
    "    return False\n",
    "\n",
    "if(False): #part 1 -> True\n",
    "    current_nodes = ['AAA']\n",
    "\n",
    "instruction = 0\n",
    "keep_moving = True\n",
    "while keep_moving:\n",
    "    dir = 0 if instructions[instruction%len(instructions)]=='L' else 1\n",
    "    # print(current_node, dir)\n",
    "    for i,c in enumerate(current_nodes):\n",
    "        current_nodes[i] = nodes[current_nodes[i]][dir]\n",
    "\n",
    "    keep_moving = KeepMoving(current_nodes)\n",
    "    instruction+=1"
   ]
  },
  {
   "cell_type": "code",
   "execution_count": null,
   "metadata": {},
   "outputs": [],
   "source": []
  }
 ],
 "metadata": {
  "kernelspec": {
   "display_name": "Python 3.9.6 64-bit",
   "language": "python",
   "name": "python3"
  },
  "language_info": {
   "codemirror_mode": {
    "name": "ipython",
    "version": 3
   },
   "file_extension": ".py",
   "mimetype": "text/x-python",
   "name": "python",
   "nbconvert_exporter": "python",
   "pygments_lexer": "ipython3",
   "version": "3.9.6"
  },
  "orig_nbformat": 4,
  "vscode": {
   "interpreter": {
    "hash": "31f2aee4e71d21fbe5cf8b01ff0e069b9275f58929596ceb00d14d90e3e16cd6"
   }
  }
 },
 "nbformat": 4,
 "nbformat_minor": 2
}
