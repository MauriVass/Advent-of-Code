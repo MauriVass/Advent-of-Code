{
 "cells": [
  {
   "cell_type": "code",
   "execution_count": null,
   "metadata": {},
   "outputs": [],
   "source": [
    "# f = open('example1.txt')\n",
    "f = open('input.txt')\n",
    "\n",
    "platform = []\n",
    "summary = 0\n",
    "for r,line in enumerate(f.readlines()):\n",
    "    line = line.strip()\n",
    "    row = []\n",
    "    for c,l in enumerate(line):\n",
    "        row.append(l)\n",
    "    platform.append(row)"
   ]
  },
  {
   "cell_type": "code",
   "execution_count": null,
   "metadata": {},
   "outputs": [],
   "source": [
    "def CanMoveTo(platform, r, c):\n",
    "    if(platform[r][c] == '.' and r>=0):\n",
    "        return True\n",
    "    else:\n",
    "        return False\n",
    "\n",
    "total_load = 0\n",
    "for r,row in enumerate(platform):\n",
    "    for c,column in enumerate(row):\n",
    "        if(platform[r][c] == 'O'):\n",
    "            row_to_check = r-1\n",
    "            while CanMoveTo(platform, row_to_check, c):\n",
    "                platform[row_to_check+1][c] = '.'\n",
    "                platform[row_to_check][c] = 'O'\n",
    "                row_to_check-=1\n",
    "            total_load += len(platform) - (row_to_check+1)\n",
    "print(total_load) #pt 1: 106997"
   ]
  },
  {
   "cell_type": "code",
   "execution_count": null,
   "metadata": {},
   "outputs": [],
   "source": []
  }
 ],
 "metadata": {
  "kernelspec": {
   "display_name": "Python 3.9.6 64-bit",
   "language": "python",
   "name": "python3"
  },
  "language_info": {
   "codemirror_mode": {
    "name": "ipython",
    "version": 3
   },
   "file_extension": ".py",
   "mimetype": "text/x-python",
   "name": "python",
   "nbconvert_exporter": "python",
   "pygments_lexer": "ipython3",
   "version": "3.9.6"
  },
  "orig_nbformat": 4,
  "vscode": {
   "interpreter": {
    "hash": "31f2aee4e71d21fbe5cf8b01ff0e069b9275f58929596ceb00d14d90e3e16cd6"
   }
  }
 },
 "nbformat": 4,
 "nbformat_minor": 2
}
